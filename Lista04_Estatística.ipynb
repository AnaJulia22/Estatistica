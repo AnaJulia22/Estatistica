{
  "cells": [
    {
      "cell_type": "markdown",
      "metadata": {
        "id": "ygR0lJ6WjLAt"
      },
      "source": [
        "##Ana Júlia de Oliveira Fernandes"
      ]
    },
    {
      "cell_type": "code",
      "execution_count": 173,
      "metadata": {
        "id": "DLXOMVGlFwni"
      },
      "outputs": [],
      "source": [
        "import numpy as np\n",
        "import pandas as pd\n",
        "import matplotlib.pyplot as plt\n",
        "import scipy.stats as stats\n",
        "import seaborn as sns"
      ]
    },
    {
      "cell_type": "markdown",
      "metadata": {
        "id": "7-2biwPLEq_J"
      },
      "source": [
        "#Questão 1\n",
        "O salário médio de um professor é de 27989 reais. Assuma que a distribuição é normal com um desvio padrão de 3250 reais.\n",
        "\n",
        "a) Qual a probabilidade de um professor fazer entre 20000 e 30000 por ano?\n",
        "\n",
        "b) Qual a probabilidade de um professor ter um salário menor que 20000?"
      ]
    },
    {
      "cell_type": "code",
      "execution_count": 174,
      "metadata": {
        "colab": {
          "base_uri": "https://localhost:8080/"
        },
        "id": "ZKYQVnQTESca",
        "outputId": "b34b2d5f-fbb8-4f73-fa6b-8da918f685ac"
      },
      "outputs": [
        {
          "name": "stdout",
          "output_type": "stream",
          "text": [
            "Respostas:\n",
            " a) A probabilidade de um professor fazer entre 20000 e 30000 por ano: 72.50%\n",
            " b) A probabilidade de um professor ter um salário menor que 20000: 0.70%\n"
          ]
        }
      ],
      "source": [
        "from numpy.random import normal\n",
        "\n",
        "dist = stats.norm(loc=27989, scale=3250)\n",
        "print('Respostas:')\n",
        "#a) \n",
        "proba1 = dist.cdf(30000) - dist.cdf(20000)\n",
        "print(f' a) A probabilidade de um professor fazer entre 20000 e 30000 por ano: {proba1:.2%}')\n",
        "\n",
        "#b) \n",
        "proba2 = dist.cdf(20000)\n",
        "print(f' b) A probabilidade de um professor ter um salário menor que 20000: {proba2:.2%}')\n"
      ]
    },
    {
      "cell_type": "markdown",
      "metadata": {
        "id": "JhstvANZJ416"
      },
      "source": [
        "#Questão 2\n",
        "Nos últimos 100 anos, houveram 93 terremotos medindo 6.0 ou mais na escala\n",
        "Richter. Qual é a probabilidade de ter 3 terremotos no mesmo ano medindo 6 ou mais?"
      ]
    },
    {
      "cell_type": "code",
      "execution_count": 175,
      "metadata": {
        "colab": {
          "base_uri": "https://localhost:8080/"
        },
        "id": "uzAvfGOlGUkZ",
        "outputId": "5fc8af9e-dabe-415e-fe9c-a8a0c438a884"
      },
      "outputs": [
        {
          "name": "stdout",
          "output_type": "stream",
          "text": [
            "5.29\n",
            "Resposta: A probabilidade de ter 3 terremotos no mesmo ano medindo 6 ou mais é de 5.29%\n"
          ]
        }
      ],
      "source": [
        "import math\n",
        "from scipy.stats import poisson\n",
        "print(round(poisson.pmf(k = 3, mu = 0.93)*100, 2))\n",
        "\n",
        "def poisson(media, x):\n",
        "  proba = ((media**x) * math.e**(-media)) / math.factorial(x)\n",
        "  return proba\n",
        "  \n",
        "media = 93/100\n",
        "x = 3\n",
        "proba = poisson(media, x)\n",
        "print(f'Resposta: A probabilidade de ter 3 terremotos no mesmo ano medindo 6 ou mais é de {proba:.2%}')"
      ]
    },
    {
      "cell_type": "markdown",
      "metadata": {
        "id": "dMQc4ns6P41D"
      },
      "source": [
        "#Questão 3\n",
        "Assuma uma Distribuição de Poisson e use uma média dada para achar a\n",
        "probabilidade\n",
        "\n",
        "a. λ=2; P(3)=?\n",
        "\n",
        "b. λ=0.3; P(1)=?"
      ]
    },
    {
      "cell_type": "code",
      "execution_count": 176,
      "metadata": {
        "colab": {
          "base_uri": "https://localhost:8080/"
        },
        "id": "lCh_EQBEGo7o",
        "outputId": "c8ac521b-68cd-4521-a6a1-1890bea24be1"
      },
      "outputs": [
        {
          "name": "stdout",
          "output_type": "stream",
          "text": [
            "Respostas:\n",
            "a) 18.04%\n",
            "b) 22.22%\n"
          ]
        }
      ],
      "source": [
        "print('Respostas:')\n",
        "#a)\n",
        "media = 2\n",
        "x = 3\n",
        "proba1 = poisson(media, x)\n",
        "print(f'a) {proba1:.2%}')\n",
        "#b)\n",
        "media = 0.3\n",
        "x = 1\n",
        "proba2 = poisson(media, x)\n",
        "print(f'b) {proba2:.2%}')"
      ]
    },
    {
      "cell_type": "markdown",
      "metadata": {
        "id": "DiPbJBPsTLvE"
      },
      "source": [
        "#Questão 4\n",
        "Plote o gráfico de histograma com os resultados obtidos."
      ]
    },
    {
      "cell_type": "code",
      "execution_count": 177,
      "metadata": {
        "colab": {
          "base_uri": "https://localhost:8080/",
          "height": 452
        },
        "id": "4TOM4x0tRXUi",
        "outputId": "ab630516-3293-4d7f-985e-2f6cb569579d"
      },
      "outputs": [
        {
          "data": {
            "image/png": "[encoded data removed]",
            "text/plain": [
              "<Figure size 640x480 with 1 Axes>"
            ]
          },
          "metadata": {},
          "output_type": "display_data"
        }
      ],
      "source": [
        "import random\n",
        "\n",
        "def toss_coin():\n",
        "\n",
        "  r = random.random()\n",
        "  if r < 0.5:\n",
        "    result = 'H'\n",
        "  else:\n",
        "    result = 'T'\n",
        "  return 'Head' if result == 'H' else 'Tail'\n",
        "\n",
        "def toss_ten_coins():\n",
        "\n",
        "  result = []\n",
        "  for i in range(10):\n",
        "    result.append(toss_coin()) \n",
        "  return result\n",
        "  \n",
        "result = toss_ten_coins()\n",
        "plt.hist(result, 50)\n",
        "plt.title('Head or Tail')\n",
        "plt.show()"
      ]
    },
    {
      "cell_type": "markdown",
      "metadata": {
        "id": "Zz1qD1ZsgpLP"
      },
      "source": [
        "#Questão 5\n",
        "Suponha que leituras de temperatura seguem uma distribuição normal com\n",
        "média de 0o e desvio padrão de 1o. Encontre as probabilidades que uma leitura\n",
        "de temperatura aleatoriamente escolhida concorda com os seguintes\n",
        "enunciados:\n",
        "\n",
        "a. menor que -1.5°\n",
        "\n",
        "b. menor que 1.23°\n",
        "\n",
        "c. Maior que 2.22°\n",
        "\n",
        "d. Maior que -1.75°\n",
        "\n",
        "e. Entre 0.50° e 1.00°"
      ]
    },
    {
      "cell_type": "code",
      "execution_count": 178,
      "metadata": {
        "colab": {
          "base_uri": "https://localhost:8080/"
        },
        "id": "2h_1OTGVbAF7",
        "outputId": "007be53e-9b6e-419d-dbd8-8ca6785b4950"
      },
      "outputs": [
        {
          "name": "stdout",
          "output_type": "stream",
          "text": [
            "Respostas:\n",
            "a) 6.68%\n",
            "b) 89.07%\n",
            "c) 1.32%\n",
            "d) 95.99%\n",
            "e) 14.99%\n"
          ]
        }
      ],
      "source": [
        "dist = stats.norm(loc=0, scale=1)\n",
        "#a)\n",
        "a = dist.cdf(-1.5)\n",
        "#b)\n",
        "b = dist.cdf(1.23)\n",
        "#c)\n",
        "c = 1 - dist.cdf(2.22)\n",
        "#d)\n",
        "d = 1 - dist.cdf(-1.75)\n",
        "#e)\n",
        "e = dist.cdf(1.00) - dist.cdf(0.50)\n",
        "print('Respostas:')\n",
        "print(f'a) {a:.2%}')\n",
        "print(f'b) {b:.2%}')\n",
        "print(f'c) {c:.2%}')\n",
        "print(f'd) {d:.2%}')\n",
        "print(f'e) {e:.2%}')"
      ]
    }
  ],
  "metadata": {
    "colab": {
      "provenance": []
    },
    "kernelspec": {
      "display_name": "Python 3",
      "name": "python3"
    },
    "language_info": {
      "name": "python"
    }
  },
  "nbformat": 4,
  "nbformat_minor": 0
}
